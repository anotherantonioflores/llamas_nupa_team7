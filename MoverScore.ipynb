{
  "cells": [
    {
      "cell_type": "code",
      "execution_count": null,
      "id": "062021cc-a2dd-4f94-aacf-afc693f3bd90",
      "metadata": {
        "id": "062021cc-a2dd-4f94-aacf-afc693f3bd90",
        "outputId": "938164ae-32b7-431e-f338-c0d4ef348855"
      },
      "outputs": [
        {
          "name": "stdout",
          "output_type": "stream",
          "text": [
            "Generated Headlines:\n",
            "['At least 30 gunmen burst into a drug rehabilitation center in a Mexican border state capital and opened fire, killing 19 men and wounding four people, police said.', 'Gunmen also killed 16 people in another drug-plagued northern city. The killings in Chihuahua city and in Ciudad Madero marked one of the bloodiest weeks ever in Mexico.']\n",
            "['30 impacted in 19 related incidents.', '16 affected in an incident.']\n",
            "Numeral-aware Headline Generation MoverScore: 0.5906293392181396\n"
          ]
        }
      ],
      "source": [
        "\n",
        "import torch\n",
        "from transformers import BertTokenizer, BertModel\n",
        "import numpy as np\n",
        "from scipy.spatial.distance import cosine\n",
        "from typing import List\n",
        "import random\n",
        "\n",
        "class MoverScore:\n",
        "    def __init__(self, model_name='bert-base-uncased'):\n",
        "        self.tokenizer = BertTokenizer.from_pretrained(model_name)\n",
        "        self.model = BertModel.from_pretrained(model_name)\n",
        "        self.model.eval()\n",
        "\n",
        "    def get_bert_embedding(self, text):\n",
        "        tokens = self.tokenizer(text, return_tensors='pt', padding=True, truncation=True, max_length=512)\n",
        "        with torch.no_grad():\n",
        "            outputs = self.model(**tokens)\n",
        "        embeddings = outputs.last_hidden_state.squeeze(0)\n",
        "        return embeddings.mean(dim=0).cpu().numpy()  # Average pooling\n",
        "\n",
        "    def compute_idf(self, corpus):\n",
        "        idf_dict = {}\n",
        "        num_docs = len(corpus)\n",
        "        for doc in corpus:\n",
        "            tokens = self.tokenizer.tokenize(doc)\n",
        "            for token in set(tokens):\n",
        "                idf_dict[token] = idf_dict.get(token, 0) + 1\n",
        "        for token, count in idf_dict.items():\n",
        "            idf_dict[token] = np.log(num_docs / count)\n",
        "        return idf_dict\n",
        "\n",
        "    def compute_moverscore(self, hypothesis, reference, idf_dict):\n",
        "        hyp_embedding = self.get_bert_embedding(hypothesis)\n",
        "        ref_embedding = self.get_bert_embedding(reference)\n",
        "        similarity = 1 - cosine(hyp_embedding, ref_embedding)\n",
        "        return similarity\n",
        "\n",
        "\n",
        "def generate_numeral_aware_headline(article: str) -> str:\n",
        "    \"\"\"Generate a numeral-aware headline incorporating key numerical reasoning.\"\"\"\n",
        "    words = article.split()\n",
        "    numerals = [word for word in words if word.isdigit()]\n",
        "    if numerals:\n",
        "        headline = f\"{numerals[0]} impacted in {numerals[1]} related incidents.\" if len(numerals) > 1 else f\"{numerals[0]} affected in an incident.\"\n",
        "    else:\n",
        "        headline = \"No numeral-specific data found.\"\n",
        "    return headline\n",
        "\n",
        "\n",
        "def generate_numeral_aware_headlines_loop(articles: List[str]) -> List[str]:\n",
        "    \"\"\"Generate a list of numeral-aware headlines for a list of articles.\"\"\"\n",
        "    generated_headlines = []\n",
        "    for article in articles:\n",
        "        headline = generate_numeral_aware_headline(article)\n",
        "        generated_headlines.append(headline)\n",
        "    return generated_headlines\n",
        "\n",
        "\n",
        "def compare_generated_to_reference(generated_headlines: List[str], reference_headlines: List[str], articles: List[str]) -> float:\n",
        "    \"\"\"Compare the generated headlines to the reference headlines using MoverScore.\"\"\"\n",
        "    mover_score = MoverScore()\n",
        "    idf_dict = mover_score.compute_idf(articles)\n",
        "    score = 0\n",
        "    for gen, ref in zip(generated_headlines, reference_headlines):\n",
        "        score += mover_score.compute_moverscore(gen, ref, idf_dict)\n",
        "    return score / len(generated_headlines)  # Average MoverScore\n",
        "\n",
        "\n",
        "# Example usage\n",
        "articles = [\n",
        "    \"At least 30 gunmen burst into a drug rehabilitation center in a Mexican border state capital and opened fire, killing 19 men and wounding four people, police said.\",\n",
        "    \"Gunmen also killed 16 people in another drug-plagued northern city. The killings in Chihuahua city and in Ciudad Madero marked one of the bloodiest weeks ever in Mexico.\"\n",
        "]\n",
        "reference_headlines = [\n",
        "    \"Gunmen attacked a drug rehabilitation center in Mexico, killing 19 and wounding 4.\",\n",
        "    \"16 people were killed in another northern city, marking one of Mexico's bloodiest weeks.\"\n",
        "]\n",
        "\n",
        "# Step 1: Generate numeral-aware headlines\n",
        "generated_headlines = generate_numeral_aware_headlines_loop(articles)\n",
        "\n",
        "# Step 2: Compare generated headlines to reference headlines\n",
        "numeral_aware_score = compare_generated_to_reference(generated_headlines, reference_headlines, articles)\n",
        "\n",
        "# Outputs\n",
        "print(\"Generated Headlines:\")\n",
        "print(articles)\n",
        "print(generated_headlines)\n",
        "print(f\"Numeral-aware Headline Generation MoverScore: {numeral_aware_score}\")\n"
      ]
    },
    {
      "cell_type": "code",
      "execution_count": null,
      "id": "30ca523f-2133-4a3d-bde4-559ef5cd8be3",
      "metadata": {
        "id": "30ca523f-2133-4a3d-bde4-559ef5cd8be3"
      },
      "outputs": [],
      "source": []
    }
  ],
  "metadata": {
    "kernelspec": {
      "display_name": "Python 3 (ipykernel)",
      "language": "python",
      "name": "python3"
    },
    "language_info": {
      "codemirror_mode": {
        "name": "ipython",
        "version": 3
      },
      "file_extension": ".py",
      "mimetype": "text/x-python",
      "name": "python",
      "nbconvert_exporter": "python",
      "pygments_lexer": "ipython3",
      "version": "3.11.7"
    },
    "colab": {
      "provenance": []
    }
  },
  "nbformat": 4,
  "nbformat_minor": 5
}