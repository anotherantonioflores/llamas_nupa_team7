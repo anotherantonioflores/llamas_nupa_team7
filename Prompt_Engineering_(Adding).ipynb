{
  "cells": [
    {
      "cell_type": "code",
      "execution_count": 12,
      "id": "05d5846d-bcf9-48ed-af6a-3894336df546",
      "metadata": {
        "colab": {
          "base_uri": "https://localhost:8080/"
        },
        "id": "05d5846d-bcf9-48ed-af6a-3894336df546",
        "outputId": "8a5818cf-d06d-4fce-d287-45d47bd25afd"
      },
      "outputs": [
        {
          "output_type": "stream",
          "name": "stdout",
          "text": [
            "Filled Cloze: The Salamanders who came to liberate the planet were 840 .\n",
            "Numeral-aware Summary: Millions of Necrons were awankend in a tomb world, while only 840 Salamanders helped liberate the planet and pushed them back.\n"
          ]
        }
      ],
      "source": [
        "import torch\n",
        "from transformers import BertTokenizer, BertModel\n",
        "import numpy as np\n",
        "from scipy.spatial.distance import cosine\n",
        "from typing import List\n",
        "import re\n",
        "\n",
        "class MoverScore:\n",
        "    def __init__(self, model_name='bert-base-uncased'):\n",
        "        self.tokenizer = BertTokenizer.from_pretrained(model_name)\n",
        "        self.model = BertModel.from_pretrained(model_name)\n",
        "        self.model.eval()\n",
        "\n",
        "    def get_bert_embedding(self, text):\n",
        "        tokens = self.tokenizer(text, return_tensors='pt', padding=True, truncation=True, max_length=512)\n",
        "        with torch.no_grad():\n",
        "            outputs = self.model(**tokens)\n",
        "        embeddings = outputs.last_hidden_state.squeeze(0)\n",
        "        return embeddings.mean(dim=0).cpu().numpy()  # Average pooling\n",
        "\n",
        "    def compute_idf(self, corpus):\n",
        "        idf_dict = {}\n",
        "        num_docs = len(corpus)\n",
        "        for doc in corpus:\n",
        "            tokens = self.tokenizer.tokenize(doc)\n",
        "            for token in set(tokens):\n",
        "                idf_dict[token] = idf_dict.get(token, 0) + 1\n",
        "        for token, count in idf_dict.items():\n",
        "            idf_dict[token] = np.log(num_docs / count)\n",
        "        return idf_dict\n",
        "\n",
        "    def compute_moverscore(self, hypothesis, reference, idf_dict):\n",
        "        hyp_embedding = self.get_bert_embedding(hypothesis)\n",
        "        ref_embedding = self.get_bert_embedding(reference)\n",
        "        similarity = 1 - cosine(hyp_embedding, ref_embedding)\n",
        "        return similarity\n",
        "\n",
        "\n",
        "def extract_key_numbers(article: str) -> List[int]:\n",
        "    \"\"\"Extract key numbers from the article.\"\"\"\n",
        "    numbers = re.findall(r'\\b\\d+\\b', article)\n",
        "    return list(map(int, numbers))\n",
        "\n",
        "\n",
        "def add_numbers_from_article(article: str) -> int:\n",
        "    \"\"\"Add all numbers from the article to calculate a total.\"\"\"\n",
        "    numbers = extract_key_numbers(article)\n",
        "    return sum(numbers)\n",
        "\n",
        "\n",
        "def summarize_with_addition(article: str) -> str:\n",
        "    \"\"\"Summarize the article with numeral reasoning using addition.\"\"\"\n",
        "    numbers = extract_key_numbers(article)\n",
        "    if len(numbers) > 1:\n",
        "        total = sum(numbers)\n",
        "        return f\"Millions of Necrons were awankend in a tomb world, while only {total} Salamanders helped liberate the planet and deafeating our enemies.\"\n",
        "    return \"Not enough numerical data to calculate a total.\"\n",
        "\n",
        "\n",
        "def fill_cloze_with_total(article: str, cloze_sentence: str, ground_truth: str) -> str:\n",
        "    \"\"\"Fill in the cloze sentence using the total of numbers from the article.\"\"\"\n",
        "    total = add_numbers_from_article(article)\n",
        "    filled_cloze = cloze_sentence.replace(\"___\", str(total), 1)\n",
        "    return filled_cloze\n",
        "\n",
        "\n",
        "# Example Usage\n",
        "article_text = (\n",
        "    \"June of this year 600 Salamander space marines joined the fight against the Necrons as they awaken from a tomb world. \"\n",
        "    \"I a proud Salamander from the fourth company lead my men through the lands, killing any Necrons that came our way. \"\n",
        "    \"As the continue our liberation of the planet, other Salamanders answered our calls for backup and came in droves first it was 30, then 200, and during the final push to the planets liberation we awakened 10 dreadnoughts for the final days of battle. As we chared to meet our enemy, we screamed out from the fires of battle into the anvil of war.\"\n",
        "    \"As we have liberated this planet I looked around and saw my brothers bodies as well as the little sparks that came with us slumped dead. I then helped with giving each of our brothers funeral rights and awaited my orders for the next battle.\"\n",
        "\n",
        ")\n",
        "\n",
        "cloze_sentence = \"The Salamanders who came to liberate the planet were ___ .\"\n",
        "cloze_gt = \"The Salamanders defended a world with only 600 space marines from different companies.\"\n",
        "\n",
        "# Task 1: Add numbers and fill in the blank\n",
        "filled_cloze = fill_cloze_with_total(article_text, cloze_sentence, cloze_gt)\n",
        "print(f\"Filled Cloze: {filled_cloze}\")\n",
        "\n",
        "# Task 2: Numeral-aware headline with addition\n",
        "numeral_aware_summary = summarize_with_addition(article_text)\n",
        "print(f\"Numeral-aware Summary: {numeral_aware_summary}\")\n"
      ]
    },
    {
      "cell_type": "code",
      "source": [],
      "metadata": {
        "id": "o9H0kZoHK671"
      },
      "id": "o9H0kZoHK671",
      "execution_count": null,
      "outputs": []
    }
  ],
  "metadata": {
    "kernelspec": {
      "display_name": "Python 3 (ipykernel)",
      "language": "python",
      "name": "python3"
    },
    "language_info": {
      "codemirror_mode": {
        "name": "ipython",
        "version": 3
      },
      "file_extension": ".py",
      "mimetype": "text/x-python",
      "name": "python",
      "nbconvert_exporter": "python",
      "pygments_lexer": "ipython3",
      "version": "3.12.7"
    },
    "colab": {
      "provenance": []
    }
  },
  "nbformat": 4,
  "nbformat_minor": 5
}